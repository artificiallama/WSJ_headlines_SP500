{
 "cells": [
  {
   "cell_type": "markdown",
   "metadata": {},
   "source": [
    "# Evaluate power of sentiment to predict next years S&P price movement\n",
    "The sentiment model is used to predict price movements from 2000-2019.\n",
    "The sentiment model is compared with other baseline models using accuracy, confusion matrix, the gradient metric and backtrading."
   ]
  },
  {
   "cell_type": "code",
   "execution_count": 109,
   "metadata": {},
   "outputs": [
    {
     "name": "stdout",
     "output_type": "stream",
     "text": [
      "         date   senti\n",
      "0  1998/01/07 -0.2732\n",
      "1  1998/01/07  0.3612\n",
      "2  1998/02/12  0.0000\n",
      "3  1998/02/18  0.0000\n",
      "4  1998/02/18  0.0000\n"
     ]
    }
   ],
   "source": [
    "import pandas as pd\n",
    "\n",
    "df = pd.read_csv('data_new/allyrs_sentiment.csv',usecols=['date','senti'])\n",
    "\n",
    "print(df.head())"
   ]
  },
  {
   "cell_type": "code",
   "execution_count": 110,
   "metadata": {},
   "outputs": [
    {
     "name": "stdout",
     "output_type": "stream",
     "text": [
      "              date   senti\n",
      "520204  2019/12/31  0.0000\n",
      "520205  2019/12/31  0.5859\n",
      "520206  2019/12/31  0.0000\n",
      "520207  2019/12/31  0.0000\n",
      "520208  2019/12/31 -0.1779\n"
     ]
    }
   ],
   "source": [
    "print(df.tail())"
   ]
  },
  {
   "cell_type": "code",
   "execution_count": 111,
   "metadata": {},
   "outputs": [
    {
     "name": "stdout",
     "output_type": "stream",
     "text": [
      "\n",
      "shape (520209, 2)\n",
      "0\n"
     ]
    }
   ],
   "source": [
    "print('\\nshape',df.shape)\n",
    "\n",
    "print(df.isnull().sum().sum())"
   ]
  },
  {
   "cell_type": "code",
   "execution_count": 112,
   "metadata": {},
   "outputs": [
    {
     "data": {
      "text/html": [
       "<div>\n",
       "<style scoped>\n",
       "    .dataframe tbody tr th:only-of-type {\n",
       "        vertical-align: middle;\n",
       "    }\n",
       "\n",
       "    .dataframe tbody tr th {\n",
       "        vertical-align: top;\n",
       "    }\n",
       "\n",
       "    .dataframe thead th {\n",
       "        text-align: right;\n",
       "    }\n",
       "</style>\n",
       "<table border=\"1\" class=\"dataframe\">\n",
       "  <thead>\n",
       "    <tr style=\"text-align: right;\">\n",
       "      <th></th>\n",
       "      <th>date</th>\n",
       "      <th>senti</th>\n",
       "      <th>year</th>\n",
       "    </tr>\n",
       "  </thead>\n",
       "  <tbody>\n",
       "    <tr>\n",
       "      <th>0</th>\n",
       "      <td>1998/01/07</td>\n",
       "      <td>-0.2732</td>\n",
       "      <td>1998</td>\n",
       "    </tr>\n",
       "    <tr>\n",
       "      <th>1</th>\n",
       "      <td>1998/01/07</td>\n",
       "      <td>0.3612</td>\n",
       "      <td>1998</td>\n",
       "    </tr>\n",
       "    <tr>\n",
       "      <th>2</th>\n",
       "      <td>1998/02/12</td>\n",
       "      <td>0.0000</td>\n",
       "      <td>1998</td>\n",
       "    </tr>\n",
       "    <tr>\n",
       "      <th>3</th>\n",
       "      <td>1998/02/18</td>\n",
       "      <td>0.0000</td>\n",
       "      <td>1998</td>\n",
       "    </tr>\n",
       "    <tr>\n",
       "      <th>4</th>\n",
       "      <td>1998/02/18</td>\n",
       "      <td>0.0000</td>\n",
       "      <td>1998</td>\n",
       "    </tr>\n",
       "  </tbody>\n",
       "</table>\n",
       "</div>"
      ],
      "text/plain": [
       "         date   senti  year\n",
       "0  1998/01/07 -0.2732  1998\n",
       "1  1998/01/07  0.3612  1998\n",
       "2  1998/02/12  0.0000  1998\n",
       "3  1998/02/18  0.0000  1998\n",
       "4  1998/02/18  0.0000  1998"
      ]
     },
     "execution_count": 112,
     "metadata": {},
     "output_type": "execute_result"
    }
   ],
   "source": [
    "df['year'] = df['date'].apply(lambda x : x[0:4])\n",
    "\n",
    "df.head()"
   ]
  },
  {
   "cell_type": "markdown",
   "metadata": {},
   "source": [
    "## Calculate annual mean sentiment"
   ]
  },
  {
   "cell_type": "code",
   "execution_count": 113,
   "metadata": {},
   "outputs": [
    {
     "data": {
      "text/html": [
       "<div>\n",
       "<style scoped>\n",
       "    .dataframe tbody tr th:only-of-type {\n",
       "        vertical-align: middle;\n",
       "    }\n",
       "\n",
       "    .dataframe tbody tr th {\n",
       "        vertical-align: top;\n",
       "    }\n",
       "\n",
       "    .dataframe thead th {\n",
       "        text-align: right;\n",
       "    }\n",
       "</style>\n",
       "<table border=\"1\" class=\"dataframe\">\n",
       "  <thead>\n",
       "    <tr style=\"text-align: right;\">\n",
       "      <th></th>\n",
       "      <th>senti</th>\n",
       "    </tr>\n",
       "    <tr>\n",
       "      <th>year</th>\n",
       "      <th></th>\n",
       "    </tr>\n",
       "  </thead>\n",
       "  <tbody>\n",
       "    <tr>\n",
       "      <th>1998</th>\n",
       "      <td>0.012811</td>\n",
       "    </tr>\n",
       "    <tr>\n",
       "      <th>1999</th>\n",
       "      <td>0.035368</td>\n",
       "    </tr>\n",
       "    <tr>\n",
       "      <th>2000</th>\n",
       "      <td>0.037569</td>\n",
       "    </tr>\n",
       "    <tr>\n",
       "      <th>2001</th>\n",
       "      <td>0.006857</td>\n",
       "    </tr>\n",
       "    <tr>\n",
       "      <th>2002</th>\n",
       "      <td>-0.003868</td>\n",
       "    </tr>\n",
       "  </tbody>\n",
       "</table>\n",
       "</div>"
      ],
      "text/plain": [
       "         senti\n",
       "year          \n",
       "1998  0.012811\n",
       "1999  0.035368\n",
       "2000  0.037569\n",
       "2001  0.006857\n",
       "2002 -0.003868"
      ]
     },
     "execution_count": 113,
     "metadata": {},
     "output_type": "execute_result"
    }
   ],
   "source": [
    "mean_senti = df.groupby('year')['senti'].mean().to_frame()\n",
    "\n",
    "mean_senti.head(5)"
   ]
  },
  {
   "cell_type": "code",
   "execution_count": 114,
   "metadata": {},
   "outputs": [
    {
     "data": {
      "text/html": [
       "<div>\n",
       "<style scoped>\n",
       "    .dataframe tbody tr th:only-of-type {\n",
       "        vertical-align: middle;\n",
       "    }\n",
       "\n",
       "    .dataframe tbody tr th {\n",
       "        vertical-align: top;\n",
       "    }\n",
       "\n",
       "    .dataframe thead th {\n",
       "        text-align: right;\n",
       "    }\n",
       "</style>\n",
       "<table border=\"1\" class=\"dataframe\">\n",
       "  <thead>\n",
       "    <tr style=\"text-align: right;\">\n",
       "      <th></th>\n",
       "      <th>year</th>\n",
       "      <th>senti</th>\n",
       "    </tr>\n",
       "  </thead>\n",
       "  <tbody>\n",
       "    <tr>\n",
       "      <th>0</th>\n",
       "      <td>1998</td>\n",
       "      <td>0.012811</td>\n",
       "    </tr>\n",
       "    <tr>\n",
       "      <th>1</th>\n",
       "      <td>1999</td>\n",
       "      <td>0.035368</td>\n",
       "    </tr>\n",
       "    <tr>\n",
       "      <th>2</th>\n",
       "      <td>2000</td>\n",
       "      <td>0.037569</td>\n",
       "    </tr>\n",
       "    <tr>\n",
       "      <th>3</th>\n",
       "      <td>2001</td>\n",
       "      <td>0.006857</td>\n",
       "    </tr>\n",
       "    <tr>\n",
       "      <th>4</th>\n",
       "      <td>2002</td>\n",
       "      <td>-0.003868</td>\n",
       "    </tr>\n",
       "  </tbody>\n",
       "</table>\n",
       "</div>"
      ],
      "text/plain": [
       "   year     senti\n",
       "0  1998  0.012811\n",
       "1  1999  0.035368\n",
       "2  2000  0.037569\n",
       "3  2001  0.006857\n",
       "4  2002 -0.003868"
      ]
     },
     "execution_count": 114,
     "metadata": {},
     "output_type": "execute_result"
    }
   ],
   "source": [
    "mean_senti.reset_index(level=0,inplace=True)\n",
    "\n",
    "mean_senti.head(5)"
   ]
  },
  {
   "cell_type": "code",
   "execution_count": 115,
   "metadata": {},
   "outputs": [
    {
     "data": {
      "image/png": "[encoded data removed]",
      "text/plain": [
       "<Figure size 432x288 with 1 Axes>"
      ]
     },
     "metadata": {},
     "output_type": "display_data"
    }
   ],
   "source": [
    "import seaborn as sns\n",
    "import matplotlib.pyplot as plt\n",
    "import numpy as np\n",
    "\n",
    "styr=1998\n",
    "edyr=2019\n",
    "\n",
    "fig,ax = plt.subplots(1,1)\n",
    "ax.bar(np.arange(styr,edyr+1),mean_senti['senti'],color='g')\n",
    "plt.grid(True) #; ax.zorder(0)\n",
    "ax.set_axisbelow(True)\n",
    "plt.title('Annually averaged sentiment index',fontsize=14)\n",
    "plt.xlabel('Years',fontsize=12)\n",
    "#plt.savefig('figs/annual_WSJ_sentiment.png', bbox_inches = 'tight')\n",
    "\n",
    "plt.show()"
   ]
  },
  {
   "cell_type": "markdown",
   "metadata": {},
   "source": [
    "## Read in S&P 500 price and calculate annual average of closing price"
   ]
  },
  {
   "cell_type": "code",
   "execution_count": 116,
   "metadata": {},
   "outputs": [
    {
     "name": "stdout",
     "output_type": "stream",
     "text": [
      "\n",
      "\tsp500 =  (5716, 7)\n",
      "\n",
      "\tsp500 =  (5535, 7)\n"
     ]
    }
   ],
   "source": [
    "#https://finance.yahoo.com/quote/%5EGSPC?p=^GSPC&.tsrc=fin-srch\n",
    "#^GSPC\n",
    "sp500 = pd.read_csv('data/sp500_1998-2020.csv')\n",
    "\n",
    "print('\\n\\tsp500 = ',sp500.shape)\n",
    "\n",
    "#Drop the year 2020 since we do not have data for the whole year.\n",
    "sp500 = sp500[~sp500['Date'].str.contains('2020')]\n",
    "print('\\n\\tsp500 = ',sp500.shape)"
   ]
  },
  {
   "cell_type": "code",
   "execution_count": 151,
   "metadata": {},
   "outputs": [
    {
     "data": {
      "text/html": [
       "<div>\n",
       "<style scoped>\n",
       "    .dataframe tbody tr th:only-of-type {\n",
       "        vertical-align: middle;\n",
       "    }\n",
       "\n",
       "    .dataframe tbody tr th {\n",
       "        vertical-align: top;\n",
       "    }\n",
       "\n",
       "    .dataframe thead th {\n",
       "        text-align: right;\n",
       "    }\n",
       "</style>\n",
       "<table border=\"1\" class=\"dataframe\">\n",
       "  <thead>\n",
       "    <tr style=\"text-align: right;\">\n",
       "      <th></th>\n",
       "      <th>Date</th>\n",
       "      <th>Open</th>\n",
       "      <th>High</th>\n",
       "      <th>Low</th>\n",
       "      <th>Close</th>\n",
       "      <th>Adj Close</th>\n",
       "      <th>Volume</th>\n",
       "      <th>year</th>\n",
       "    </tr>\n",
       "  </thead>\n",
       "  <tbody>\n",
       "    <tr>\n",
       "      <th>5530</th>\n",
       "      <td>2019-12-24</td>\n",
       "      <td>3225.449951</td>\n",
       "      <td>3226.429932</td>\n",
       "      <td>3220.510010</td>\n",
       "      <td>3223.379883</td>\n",
       "      <td>3223.379883</td>\n",
       "      <td>1296540000</td>\n",
       "      <td>2019</td>\n",
       "    </tr>\n",
       "    <tr>\n",
       "      <th>5531</th>\n",
       "      <td>2019-12-26</td>\n",
       "      <td>3227.199951</td>\n",
       "      <td>3240.080078</td>\n",
       "      <td>3227.199951</td>\n",
       "      <td>3239.909912</td>\n",
       "      <td>3239.909912</td>\n",
       "      <td>2160680000</td>\n",
       "      <td>2019</td>\n",
       "    </tr>\n",
       "    <tr>\n",
       "      <th>5532</th>\n",
       "      <td>2019-12-27</td>\n",
       "      <td>3247.229980</td>\n",
       "      <td>3247.929932</td>\n",
       "      <td>3234.370117</td>\n",
       "      <td>3240.020020</td>\n",
       "      <td>3240.020020</td>\n",
       "      <td>2428670000</td>\n",
       "      <td>2019</td>\n",
       "    </tr>\n",
       "    <tr>\n",
       "      <th>5533</th>\n",
       "      <td>2019-12-30</td>\n",
       "      <td>3240.090088</td>\n",
       "      <td>3240.919922</td>\n",
       "      <td>3216.570068</td>\n",
       "      <td>3221.290039</td>\n",
       "      <td>3221.290039</td>\n",
       "      <td>3013290000</td>\n",
       "      <td>2019</td>\n",
       "    </tr>\n",
       "    <tr>\n",
       "      <th>5534</th>\n",
       "      <td>2019-12-31</td>\n",
       "      <td>3215.179932</td>\n",
       "      <td>3231.719971</td>\n",
       "      <td>3212.030029</td>\n",
       "      <td>3230.780029</td>\n",
       "      <td>3230.780029</td>\n",
       "      <td>2893810000</td>\n",
       "      <td>2019</td>\n",
       "    </tr>\n",
       "  </tbody>\n",
       "</table>\n",
       "</div>"
      ],
      "text/plain": [
       "            Date         Open         High          Low        Close  \\\n",
       "5530  2019-12-24  3225.449951  3226.429932  3220.510010  3223.379883   \n",
       "5531  2019-12-26  3227.199951  3240.080078  3227.199951  3239.909912   \n",
       "5532  2019-12-27  3247.229980  3247.929932  3234.370117  3240.020020   \n",
       "5533  2019-12-30  3240.090088  3240.919922  3216.570068  3221.290039   \n",
       "5534  2019-12-31  3215.179932  3231.719971  3212.030029  3230.780029   \n",
       "\n",
       "        Adj Close      Volume  year  \n",
       "5530  3223.379883  1296540000  2019  \n",
       "5531  3239.909912  2160680000  2019  \n",
       "5532  3240.020020  2428670000  2019  \n",
       "5533  3221.290039  3013290000  2019  \n",
       "5534  3230.780029  2893810000  2019  "
      ]
     },
     "execution_count": 151,
     "metadata": {},
     "output_type": "execute_result"
    }
   ],
   "source": [
    "sp500.tail(5)"
   ]
  },
  {
   "cell_type": "code",
   "execution_count": 152,
   "metadata": {},
   "outputs": [
    {
     "data": {
      "image/png": "[encoded data removed]",
      "text/plain": [
       "<Figure size 1080x720 with 1 Axes>"
      ]
     },
     "metadata": {},
     "output_type": "display_data"
    }
   ],
   "source": [
    "import matplotlib.pyplot as plt\n",
    "import seaborn as sns\n",
    "\n",
    "plt.figure(figsize=(15,10))\n",
    "sns.set_style(\"darkgrid\")\n",
    "\n",
    "ax2 = plt.subplot(222)\n",
    "sns.set_style(\"darkgrid\")\n",
    "#sp500.iloc[0:].plot(x='Date',y='Close',ax=ax2,color='mediumvioletred')\n",
    "sp500.plot(x='Date',y='Close',ax=ax2,color='mediumvioletred')\n",
    "#sp500.plot(x='Date',y='Open',ax=ax2,color='brown')\n",
    "plt.title('S&P500 (^GSPC) daily close price (USD)',fontsize=16)\n",
    "#plt.savefig('figs/SP500_daily_close.png', bbox_inches = 'tight')\n",
    "\n",
    "plt.show()"
   ]
  },
  {
   "cell_type": "code",
   "execution_count": 153,
   "metadata": {},
   "outputs": [
    {
     "data": {
      "text/html": [
       "<div>\n",
       "<style scoped>\n",
       "    .dataframe tbody tr th:only-of-type {\n",
       "        vertical-align: middle;\n",
       "    }\n",
       "\n",
       "    .dataframe tbody tr th {\n",
       "        vertical-align: top;\n",
       "    }\n",
       "\n",
       "    .dataframe thead th {\n",
       "        text-align: right;\n",
       "    }\n",
       "</style>\n",
       "<table border=\"1\" class=\"dataframe\">\n",
       "  <thead>\n",
       "    <tr style=\"text-align: right;\">\n",
       "      <th></th>\n",
       "      <th>Date</th>\n",
       "      <th>Open</th>\n",
       "      <th>High</th>\n",
       "      <th>Low</th>\n",
       "      <th>Close</th>\n",
       "      <th>Adj Close</th>\n",
       "      <th>Volume</th>\n",
       "      <th>year</th>\n",
       "    </tr>\n",
       "  </thead>\n",
       "  <tbody>\n",
       "    <tr>\n",
       "      <th>0</th>\n",
       "      <td>1998-01-02</td>\n",
       "      <td>970.429993</td>\n",
       "      <td>975.039978</td>\n",
       "      <td>965.729980</td>\n",
       "      <td>975.039978</td>\n",
       "      <td>975.039978</td>\n",
       "      <td>366730000</td>\n",
       "      <td>1998</td>\n",
       "    </tr>\n",
       "    <tr>\n",
       "      <th>1</th>\n",
       "      <td>1998-01-05</td>\n",
       "      <td>975.039978</td>\n",
       "      <td>982.630005</td>\n",
       "      <td>969.000000</td>\n",
       "      <td>977.070007</td>\n",
       "      <td>977.070007</td>\n",
       "      <td>628070000</td>\n",
       "      <td>1998</td>\n",
       "    </tr>\n",
       "    <tr>\n",
       "      <th>2</th>\n",
       "      <td>1998-01-06</td>\n",
       "      <td>977.070007</td>\n",
       "      <td>977.070007</td>\n",
       "      <td>962.679993</td>\n",
       "      <td>966.580017</td>\n",
       "      <td>966.580017</td>\n",
       "      <td>618360000</td>\n",
       "      <td>1998</td>\n",
       "    </tr>\n",
       "    <tr>\n",
       "      <th>3</th>\n",
       "      <td>1998-01-07</td>\n",
       "      <td>966.580017</td>\n",
       "      <td>966.580017</td>\n",
       "      <td>952.669983</td>\n",
       "      <td>964.000000</td>\n",
       "      <td>964.000000</td>\n",
       "      <td>667390000</td>\n",
       "      <td>1998</td>\n",
       "    </tr>\n",
       "    <tr>\n",
       "      <th>4</th>\n",
       "      <td>1998-01-08</td>\n",
       "      <td>964.000000</td>\n",
       "      <td>964.000000</td>\n",
       "      <td>955.039978</td>\n",
       "      <td>956.049988</td>\n",
       "      <td>956.049988</td>\n",
       "      <td>652140000</td>\n",
       "      <td>1998</td>\n",
       "    </tr>\n",
       "  </tbody>\n",
       "</table>\n",
       "</div>"
      ],
      "text/plain": [
       "         Date        Open        High         Low       Close   Adj Close  \\\n",
       "0  1998-01-02  970.429993  975.039978  965.729980  975.039978  975.039978   \n",
       "1  1998-01-05  975.039978  982.630005  969.000000  977.070007  977.070007   \n",
       "2  1998-01-06  977.070007  977.070007  962.679993  966.580017  966.580017   \n",
       "3  1998-01-07  966.580017  966.580017  952.669983  964.000000  964.000000   \n",
       "4  1998-01-08  964.000000  964.000000  955.039978  956.049988  956.049988   \n",
       "\n",
       "      Volume  year  \n",
       "0  366730000  1998  \n",
       "1  628070000  1998  \n",
       "2  618360000  1998  \n",
       "3  667390000  1998  \n",
       "4  652140000  1998  "
      ]
     },
     "execution_count": 153,
     "metadata": {},
     "output_type": "execute_result"
    }
   ],
   "source": [
    "#Extract the year from the Date and put it in another column\n",
    "sp500['year'] = sp500['Date'].apply(lambda x : x[0:4])\n",
    "\n",
    "sp500.head(5)"
   ]
  },
  {
   "cell_type": "code",
   "execution_count": 154,
   "metadata": {},
   "outputs": [
    {
     "name": "stdout",
     "output_type": "stream",
     "text": [
      "(22, 1)\n",
      "(22, 2)\n"
     ]
    }
   ],
   "source": [
    "#Calculate the annual mean of S&P closing price.\n",
    "amean_sp500 = sp500.groupby('year')['Close'].mean().to_frame()\n",
    "\n",
    "print(amean_sp500.shape)\n",
    "print(mean_senti.shape)"
   ]
  },
  {
   "cell_type": "code",
   "execution_count": 155,
   "metadata": {},
   "outputs": [
    {
     "data": {
      "text/html": [
       "<div>\n",
       "<style scoped>\n",
       "    .dataframe tbody tr th:only-of-type {\n",
       "        vertical-align: middle;\n",
       "    }\n",
       "\n",
       "    .dataframe tbody tr th {\n",
       "        vertical-align: top;\n",
       "    }\n",
       "\n",
       "    .dataframe thead th {\n",
       "        text-align: right;\n",
       "    }\n",
       "</style>\n",
       "<table border=\"1\" class=\"dataframe\">\n",
       "  <thead>\n",
       "    <tr style=\"text-align: right;\">\n",
       "      <th></th>\n",
       "      <th>Close</th>\n",
       "    </tr>\n",
       "    <tr>\n",
       "      <th>year</th>\n",
       "      <th></th>\n",
       "    </tr>\n",
       "  </thead>\n",
       "  <tbody>\n",
       "    <tr>\n",
       "      <th>1998</th>\n",
       "      <td>1085.503253</td>\n",
       "    </tr>\n",
       "    <tr>\n",
       "      <th>1999</th>\n",
       "      <td>1327.329567</td>\n",
       "    </tr>\n",
       "    <tr>\n",
       "      <th>2000</th>\n",
       "      <td>1427.221069</td>\n",
       "    </tr>\n",
       "    <tr>\n",
       "      <th>2001</th>\n",
       "      <td>1194.178994</td>\n",
       "    </tr>\n",
       "    <tr>\n",
       "      <th>2002</th>\n",
       "      <td>993.934804</td>\n",
       "    </tr>\n",
       "  </tbody>\n",
       "</table>\n",
       "</div>"
      ],
      "text/plain": [
       "            Close\n",
       "year             \n",
       "1998  1085.503253\n",
       "1999  1327.329567\n",
       "2000  1427.221069\n",
       "2001  1194.178994\n",
       "2002   993.934804"
      ]
     },
     "execution_count": 155,
     "metadata": {},
     "output_type": "execute_result"
    }
   ],
   "source": [
    "amean_sp500.head(5)"
   ]
  },
  {
   "cell_type": "code",
   "execution_count": 156,
   "metadata": {},
   "outputs": [
    {
     "data": {
      "text/html": [
       "<div>\n",
       "<style scoped>\n",
       "    .dataframe tbody tr th:only-of-type {\n",
       "        vertical-align: middle;\n",
       "    }\n",
       "\n",
       "    .dataframe tbody tr th {\n",
       "        vertical-align: top;\n",
       "    }\n",
       "\n",
       "    .dataframe thead th {\n",
       "        text-align: right;\n",
       "    }\n",
       "</style>\n",
       "<table border=\"1\" class=\"dataframe\">\n",
       "  <thead>\n",
       "    <tr style=\"text-align: right;\">\n",
       "      <th></th>\n",
       "      <th>year</th>\n",
       "      <th>Close</th>\n",
       "    </tr>\n",
       "  </thead>\n",
       "  <tbody>\n",
       "    <tr>\n",
       "      <th>0</th>\n",
       "      <td>1998</td>\n",
       "      <td>1085.503253</td>\n",
       "    </tr>\n",
       "    <tr>\n",
       "      <th>1</th>\n",
       "      <td>1999</td>\n",
       "      <td>1327.329567</td>\n",
       "    </tr>\n",
       "    <tr>\n",
       "      <th>2</th>\n",
       "      <td>2000</td>\n",
       "      <td>1427.221069</td>\n",
       "    </tr>\n",
       "    <tr>\n",
       "      <th>3</th>\n",
       "      <td>2001</td>\n",
       "      <td>1194.178994</td>\n",
       "    </tr>\n",
       "    <tr>\n",
       "      <th>4</th>\n",
       "      <td>2002</td>\n",
       "      <td>993.934804</td>\n",
       "    </tr>\n",
       "  </tbody>\n",
       "</table>\n",
       "</div>"
      ],
      "text/plain": [
       "   year        Close\n",
       "0  1998  1085.503253\n",
       "1  1999  1327.329567\n",
       "2  2000  1427.221069\n",
       "3  2001  1194.178994\n",
       "4  2002   993.934804"
      ]
     },
     "execution_count": 156,
     "metadata": {},
     "output_type": "execute_result"
    }
   ],
   "source": [
    "amean_sp500.reset_index(level=0,inplace=True)\n",
    "\n",
    "amean_sp500.head(5)"
   ]
  },
  {
   "cell_type": "code",
   "execution_count": 157,
   "metadata": {},
   "outputs": [
    {
     "name": "stdout",
     "output_type": "stream",
     "text": [
      "\n",
      "styr, edyr =  1998 2019\n"
     ]
    },
    {
     "data": {
      "image/png": "[encoded data removed]",
      "text/plain": [
       "<Figure size 432x288 with 1 Axes>"
      ]
     },
     "metadata": {},
     "output_type": "display_data"
    }
   ],
   "source": [
    "print('\\nstyr, edyr = ',styr,edyr)\n",
    "\n",
    "fig,ax = plt.subplots(1,1)\n",
    "ax.bar(np.arange(styr,edyr+1),amean_sp500['Close'],color='mediumvioletred')\n",
    "plt.grid(True) #; ax.zorder(0)\n",
    "ax.set_axisbelow(True)\n",
    "plt.title('Annually averaged S&P500 Close price',fontsize=15)\n",
    "plt.xlabel('Years',fontsize=12)\n",
    "#plt.savefig('figs/annual_average_sp500.png', bbox_inches = 'tight')\n",
    "\n",
    "plt.show()"
   ]
  },
  {
   "cell_type": "code",
   "execution_count": 158,
   "metadata": {},
   "outputs": [
    {
     "data": {
      "text/html": [
       "<div>\n",
       "<style scoped>\n",
       "    .dataframe tbody tr th:only-of-type {\n",
       "        vertical-align: middle;\n",
       "    }\n",
       "\n",
       "    .dataframe tbody tr th {\n",
       "        vertical-align: top;\n",
       "    }\n",
       "\n",
       "    .dataframe thead th {\n",
       "        text-align: right;\n",
       "    }\n",
       "</style>\n",
       "<table border=\"1\" class=\"dataframe\">\n",
       "  <thead>\n",
       "    <tr style=\"text-align: right;\">\n",
       "      <th></th>\n",
       "      <th>year</th>\n",
       "      <th>senti</th>\n",
       "    </tr>\n",
       "  </thead>\n",
       "  <tbody>\n",
       "    <tr>\n",
       "      <th>0</th>\n",
       "      <td>1998</td>\n",
       "      <td>0.012811</td>\n",
       "    </tr>\n",
       "    <tr>\n",
       "      <th>1</th>\n",
       "      <td>1999</td>\n",
       "      <td>0.035368</td>\n",
       "    </tr>\n",
       "    <tr>\n",
       "      <th>2</th>\n",
       "      <td>2000</td>\n",
       "      <td>0.037569</td>\n",
       "    </tr>\n",
       "    <tr>\n",
       "      <th>3</th>\n",
       "      <td>2001</td>\n",
       "      <td>0.006857</td>\n",
       "    </tr>\n",
       "    <tr>\n",
       "      <th>4</th>\n",
       "      <td>2002</td>\n",
       "      <td>-0.003868</td>\n",
       "    </tr>\n",
       "  </tbody>\n",
       "</table>\n",
       "</div>"
      ],
      "text/plain": [
       "   year     senti\n",
       "0  1998  0.012811\n",
       "1  1999  0.035368\n",
       "2  2000  0.037569\n",
       "3  2001  0.006857\n",
       "4  2002 -0.003868"
      ]
     },
     "execution_count": 158,
     "metadata": {},
     "output_type": "execute_result"
    }
   ],
   "source": [
    "mean_senti.head(5)"
   ]
  },
  {
   "cell_type": "markdown",
   "metadata": {},
   "source": [
    "### Calculate consecutive differences in sp500 price to quantify price movement.\n",
    "The first entry for the difference is for 1998. This is not defined since 1997 is not in the database.\n",
    "\n",
    "The second entry quantifies the price movement between 1998 and 1999 (price(1999) - price(1998)).\n",
    "\n",
    "The last entry is for 2019.  This quantifies the price movement between 2018 and 2019 (price(2019) - price(2018))."
   ]
  },
  {
   "cell_type": "code",
   "execution_count": 159,
   "metadata": {},
   "outputs": [
    {
     "name": "stdout",
     "output_type": "stream",
     "text": [
      "\n",
      " (22, 1)\n"
     ]
    },
    {
     "data": {
      "text/html": [
       "<div>\n",
       "<style scoped>\n",
       "    .dataframe tbody tr th:only-of-type {\n",
       "        vertical-align: middle;\n",
       "    }\n",
       "\n",
       "    .dataframe tbody tr th {\n",
       "        vertical-align: top;\n",
       "    }\n",
       "\n",
       "    .dataframe thead th {\n",
       "        text-align: right;\n",
       "    }\n",
       "</style>\n",
       "<table border=\"1\" class=\"dataframe\">\n",
       "  <thead>\n",
       "    <tr style=\"text-align: right;\">\n",
       "      <th></th>\n",
       "      <th>move</th>\n",
       "    </tr>\n",
       "  </thead>\n",
       "  <tbody>\n",
       "    <tr>\n",
       "      <th>0</th>\n",
       "      <td>NaN</td>\n",
       "    </tr>\n",
       "    <tr>\n",
       "      <th>1</th>\n",
       "      <td>241.826314</td>\n",
       "    </tr>\n",
       "    <tr>\n",
       "      <th>2</th>\n",
       "      <td>99.891502</td>\n",
       "    </tr>\n",
       "    <tr>\n",
       "      <th>3</th>\n",
       "      <td>-233.042074</td>\n",
       "    </tr>\n",
       "    <tr>\n",
       "      <th>4</th>\n",
       "      <td>-200.244190</td>\n",
       "    </tr>\n",
       "  </tbody>\n",
       "</table>\n",
       "</div>"
      ],
      "text/plain": [
       "         move\n",
       "0         NaN\n",
       "1  241.826314\n",
       "2   99.891502\n",
       "3 -233.042074\n",
       "4 -200.244190"
      ]
     },
     "execution_count": 159,
     "metadata": {},
     "output_type": "execute_result"
    }
   ],
   "source": [
    "dfmove = pd.DataFrame(amean_sp500['Close'].diff())\n",
    "\n",
    "dfmove.rename(columns={\"Close\":\"move\"},inplace=True)\n",
    "\n",
    "print('\\n',dfmove.shape)\n",
    "\n",
    "#The first entry is Nan since difference is not defined. It is not dropped from the dataframe since\n",
    "#the index 0 is never used in subsequent calculations. Also when the dataframe is printed out it reminds us\n",
    "#that the movement for 1998 is not defined.\n",
    "#dfmove.dropna(inplace=True)\n",
    "\n",
    "dfmove.head()"
   ]
  },
  {
   "cell_type": "code",
   "execution_count": 160,
   "metadata": {},
   "outputs": [
    {
     "name": "stdout",
     "output_type": "stream",
     "text": [
      "\n",
      " (22, 3)\n"
     ]
    },
    {
     "data": {
      "text/html": [
       "<div>\n",
       "<style scoped>\n",
       "    .dataframe tbody tr th:only-of-type {\n",
       "        vertical-align: middle;\n",
       "    }\n",
       "\n",
       "    .dataframe tbody tr th {\n",
       "        vertical-align: top;\n",
       "    }\n",
       "\n",
       "    .dataframe thead th {\n",
       "        text-align: right;\n",
       "    }\n",
       "</style>\n",
       "<table border=\"1\" class=\"dataframe\">\n",
       "  <thead>\n",
       "    <tr style=\"text-align: right;\">\n",
       "      <th></th>\n",
       "      <th>year</th>\n",
       "      <th>Close</th>\n",
       "      <th>move</th>\n",
       "    </tr>\n",
       "  </thead>\n",
       "  <tbody>\n",
       "    <tr>\n",
       "      <th>0</th>\n",
       "      <td>1998</td>\n",
       "      <td>1085.503253</td>\n",
       "      <td>NaN</td>\n",
       "    </tr>\n",
       "    <tr>\n",
       "      <th>1</th>\n",
       "      <td>1999</td>\n",
       "      <td>1327.329567</td>\n",
       "      <td>241.826314</td>\n",
       "    </tr>\n",
       "    <tr>\n",
       "      <th>2</th>\n",
       "      <td>2000</td>\n",
       "      <td>1427.221069</td>\n",
       "      <td>99.891502</td>\n",
       "    </tr>\n",
       "    <tr>\n",
       "      <th>3</th>\n",
       "      <td>2001</td>\n",
       "      <td>1194.178994</td>\n",
       "      <td>-233.042074</td>\n",
       "    </tr>\n",
       "    <tr>\n",
       "      <th>4</th>\n",
       "      <td>2002</td>\n",
       "      <td>993.934804</td>\n",
       "      <td>-200.244190</td>\n",
       "    </tr>\n",
       "  </tbody>\n",
       "</table>\n",
       "</div>"
      ],
      "text/plain": [
       "   year        Close        move\n",
       "0  1998  1085.503253         NaN\n",
       "1  1999  1327.329567  241.826314\n",
       "2  2000  1427.221069   99.891502\n",
       "3  2001  1194.178994 -233.042074\n",
       "4  2002   993.934804 -200.244190"
      ]
     },
     "execution_count": 160,
     "metadata": {},
     "output_type": "execute_result"
    }
   ],
   "source": [
    "#Put the movement and the year and close price in the same dataframe\n",
    "dfmove = pd.concat([amean_sp500, dfmove],axis=1)\n",
    "\n",
    "print('\\n',dfmove.shape)\n",
    "\n",
    "dfmove.head()"
   ]
  },
  {
   "cell_type": "markdown",
   "metadata": {},
   "source": [
    "## Combine the sentiment and movement dataframes so that all the data required is in a single dataframe"
   ]
  },
  {
   "cell_type": "code",
   "execution_count": 161,
   "metadata": {},
   "outputs": [
    {
     "data": {
      "text/html": [
       "<div>\n",
       "<style scoped>\n",
       "    .dataframe tbody tr th:only-of-type {\n",
       "        vertical-align: middle;\n",
       "    }\n",
       "\n",
       "    .dataframe tbody tr th {\n",
       "        vertical-align: top;\n",
       "    }\n",
       "\n",
       "    .dataframe thead th {\n",
       "        text-align: right;\n",
       "    }\n",
       "</style>\n",
       "<table border=\"1\" class=\"dataframe\">\n",
       "  <thead>\n",
       "    <tr style=\"text-align: right;\">\n",
       "      <th></th>\n",
       "      <th>year</th>\n",
       "      <th>senti</th>\n",
       "      <th>move</th>\n",
       "      <th>Close</th>\n",
       "    </tr>\n",
       "  </thead>\n",
       "  <tbody>\n",
       "    <tr>\n",
       "      <th>0</th>\n",
       "      <td>1998</td>\n",
       "      <td>0.012811</td>\n",
       "      <td>NaN</td>\n",
       "      <td>1085.503253</td>\n",
       "    </tr>\n",
       "    <tr>\n",
       "      <th>1</th>\n",
       "      <td>1999</td>\n",
       "      <td>0.035368</td>\n",
       "      <td>241.826314</td>\n",
       "      <td>1327.329567</td>\n",
       "    </tr>\n",
       "    <tr>\n",
       "      <th>2</th>\n",
       "      <td>2000</td>\n",
       "      <td>0.037569</td>\n",
       "      <td>99.891502</td>\n",
       "      <td>1427.221069</td>\n",
       "    </tr>\n",
       "    <tr>\n",
       "      <th>3</th>\n",
       "      <td>2001</td>\n",
       "      <td>0.006857</td>\n",
       "      <td>-233.042074</td>\n",
       "      <td>1194.178994</td>\n",
       "    </tr>\n",
       "    <tr>\n",
       "      <th>4</th>\n",
       "      <td>2002</td>\n",
       "      <td>-0.003868</td>\n",
       "      <td>-200.244190</td>\n",
       "      <td>993.934804</td>\n",
       "    </tr>\n",
       "  </tbody>\n",
       "</table>\n",
       "</div>"
      ],
      "text/plain": [
       "   year     senti        move        Close\n",
       "0  1998  0.012811         NaN  1085.503253\n",
       "1  1999  0.035368  241.826314  1327.329567\n",
       "2  2000  0.037569   99.891502  1427.221069\n",
       "3  2001  0.006857 -233.042074  1194.178994\n",
       "4  2002 -0.003868 -200.244190   993.934804"
      ]
     },
     "execution_count": 161,
     "metadata": {},
     "output_type": "execute_result"
    }
   ],
   "source": [
    "dfall = pd.concat([mean_senti, dfmove[['move','Close']]],axis=1)\n",
    "\n",
    "dfall.head()"
   ]
  },
  {
   "cell_type": "code",
   "execution_count": 163,
   "metadata": {},
   "outputs": [
    {
     "name": "stdout",
     "output_type": "stream",
     "text": [
      "\n",
      "styr, edyr =  1998 2019 \n",
      "\n",
      "\n",
      "nyrs =  22 \n",
      "\n",
      "\t\tyear \t senti \t move \tclose\n",
      "\t0     1998     128.1       nan   1085.5\n",
      "\t1     1999     353.7     241.8   1327.3\n",
      "\t2     2000     375.7      99.9   1427.2\n",
      "\t3     2001      68.6    -233.0   1194.2\n",
      "\t4     2002     -38.7    -200.2    993.9\n",
      "\t5     2003     115.8     -28.7    965.2\n",
      "\t6     2004     286.2     165.4   1130.6\n",
      "\t7     2005     327.8      76.6   1207.2\n",
      "\t8     2006     355.6     103.2   1310.5\n",
      "\t9     2007     269.6     166.7   1477.2\n",
      "\t10    2008     -20.5    -257.1   1220.0\n",
      "\t11    2009      84.0    -272.0    948.0\n",
      "\t12    2010     252.0     191.9   1140.0\n",
      "\t13    2011     112.8     127.7   1267.6\n",
      "\t14    2012     101.2     111.7   1379.4\n",
      "\t15    2013     185.3     264.4   1643.8\n",
      "\t16    2014     329.9     287.6   1931.4\n",
      "\t17    2015     279.3     129.7   2061.1\n",
      "\t18    2016     238.0      33.6   2094.7\n",
      "\t19    2017     242.3     354.4   2449.1\n",
      "\t20    2018      67.4     297.1   2746.2\n",
      "\t21    2019     -38.7     167.1   2913.4\n"
     ]
    },
    {
     "data": {
      "image/png": "[encoded data removed]",
      "text/plain": [
       "<Figure size 432x288 with 1 Axes>"
      ]
     },
     "metadata": {},
     "output_type": "display_data"
    }
   ],
   "source": [
    "nyrs = dfall.shape[0]\n",
    "\n",
    "styr = np.int(dfall.loc[0,'year'])\n",
    "edyr = np.int(dfall.loc[nyrs-1,'year'])\n",
    "\n",
    "print('\\nstyr, edyr = ',styr, edyr,'\\n')\n",
    "\n",
    "print('\\nnyrs = ',nyrs,'\\n')\n",
    "\n",
    "print('\\t\\tyear \\t senti \\t move \\tclose')\n",
    "\n",
    "for i in np.arange(0,22):\n",
    " print('\\t{0:<5d} {1:5s} {2:8.1f}  {3:8.1f} {4:8.1f}'.format(i,dfall.loc[i,'year'],dfall.loc[i,'senti']*10000,\\\n",
    "                                                     dfall.loc[i,'move'],dfall.loc[i,'Close'])) \n",
    "\n",
    "hd=[]\n",
    "plt.figure(1)\n",
    "plt.plot(np.arange(styr,edyr+1),np.full(edyr-styr+1,0),'k-')\n",
    "h1,=plt.plot(np.arange(styr,edyr+1),dfall['senti']*10000,'g-x'); hd.append(h1) #Scale up for comparison (only sign matters).\n",
    "h1,=plt.plot(np.arange(styr,edyr+1),dfall['move'],'-o',color='mediumvioletred'); hd.append(h1)\n",
    "plt.title('Mean sentiment index is scaled up for comparison with movement')\n",
    "plt.legend(hd,['Sentiment','Price movement'])\n",
    "#plt.savefig('figs/sentiment_price.png', bbox_inches = 'tight')\n",
    "\n",
    "plt.show()"
   ]
  },
  {
   "cell_type": "markdown",
   "metadata": {},
   "source": [
    "## Predict the movement for next year\n",
    "The first prediction is for the year 2000 and the last prediction is for 2019.\n",
    "\n",
    "Sentiment model : The prediction for any year is based on the sentiment index in the preceding year. If the sentiment index is negative (positive) in the current year the prediction for movement next year is downwards (upwards).\n",
    "\n",
    "Persistence model : The prediction for any year based on the movement in the preceding year. If the movemement is negative (positive) in the current year the prediction for movement next year is downwards (upwards).\n",
    "\n",
    "true_move is the actual movement used for verification of the predictions. The first element in true_move is the sign of the movement for the year 2000. The last element is the sign of movement for year 2019. The first prediction for the sentiment (persistence) model is its sentiment index (movement) for the year 1999. 'UP' means upward and 'DW' means downwards."
   ]
  },
  {
   "cell_type": "code",
   "execution_count": 164,
   "metadata": {},
   "outputs": [
    {
     "name": "stdout",
     "output_type": "stream",
     "text": [
      "\n",
      "first, last year =  1998 2019 \n",
      "\n",
      "len(pred_senti) =  20\n",
      "len(pred_persi) =  20\n",
      "npreds  =  20\n",
      "\n",
      "# of UP  movements are    15\n",
      "# of DW  movements are     5\n",
      "\n",
      "\t     year \t senti \t move \t Close \ttrue_move pred_persi pred_senti \n",
      "\t0     1998     128.1       nan   1085.5\n",
      "\t1     1999     353.7     241.8   1327.3    UP    UP    UP\n",
      "\t2     2000     375.7      99.9   1427.2    DW    UP    UP\n",
      "\t3     2001      68.6    -233.0   1194.2    DW    DW    UP\n",
      "\t4     2002     -38.7    -200.2    993.9    DW    DW    DW\n",
      "\t5     2003     115.8     -28.7    965.2    UP    DW    UP\n",
      "\t6     2004     286.2     165.4   1130.6    UP    UP    UP\n",
      "\t7     2005     327.8      76.6   1207.2    UP    UP    UP\n",
      "\t8     2006     355.6     103.2   1310.5    UP    UP    UP\n",
      "\t9     2007     269.6     166.7   1477.2    DW    UP    UP\n",
      "\t10    2008     -20.5    -257.1   1220.0    DW    DW    DW\n",
      "\t11    2009      84.0    -272.0    948.0    UP    DW    UP\n",
      "\t12    2010     252.0     191.9   1140.0    UP    UP    UP\n",
      "\t13    2011     112.8     127.7   1267.6    UP    UP    UP\n",
      "\t14    2012     101.2     111.7   1379.4    UP    UP    UP\n",
      "\t15    2013     185.3     264.4   1643.8    UP    UP    UP\n",
      "\t16    2014     329.9     287.6   1931.4    UP    UP    UP\n",
      "\t17    2015     279.3     129.7   2061.1    UP    UP    UP\n",
      "\t18    2016     238.0      33.6   2094.7    UP    UP    UP\n",
      "\t19    2017     242.3     354.4   2449.1    UP    UP    UP\n",
      "\t20    2018      67.4     297.1   2746.2    UP    UP    UP\n",
      "\t21    2019     -38.7     167.1   2913.4\n"
     ]
    }
   ],
   "source": [
    "from collections import Counter\n",
    "\n",
    "print('\\nfirst, last year = ',dfall.loc[0,'year'], dfall.loc[nyrs-1,'year'],'\\n')\n",
    "\n",
    "true_move  = ['UP' if x>=0  else 'DW' for x in dfall.loc[2:nyrs-1,'move']]  #index 2 points to year 2000\n",
    "pred_senti = ['UP' if x>=0  else 'DW' for x in dfall.loc[1:nyrs-2,'senti']] #nyrs-2 points to 2018\n",
    "pred_persi = ['UP' if x>=0  else 'DW' for x in dfall.loc[1:nyrs-2,'move']]\n",
    "\n",
    "npreds = len(true_move)\n",
    "\n",
    "print('len(pred_senti) = ',len(pred_senti))\n",
    "print('len(pred_persi) = ',len(pred_persi))\n",
    "print('npreds  = ',npreds)\n",
    "\n",
    "print('')\n",
    "\n",
    "count_move = Counter(true_move)\n",
    "for key,value in count_move.items():\n",
    " print('# of {0:3s} movements are {1:5d}'.format(key,value))\n",
    "\n",
    "print('\\n\\t     year \\t senti \\t move \\t Close \\ttrue_move pred_persi pred_senti ')\n",
    "\n",
    "for i in np.arange(nyrs):\n",
    " if i==0 or i==nyrs-1:\n",
    "  print('\\t{0:<5d} {1:5s} {2:8.1f}  {3:8.1f} {4:8.1f}'.format(i,dfall.loc[i,'year'],dfall.loc[i,'senti']*10000,\\\n",
    "                                                    dfall.loc[i,'move'],dfall.loc[i,'Close']))     \n",
    " else:   \n",
    "  print('\\t{0:<5d} {1:5s} {2:8.1f}  {3:8.1f} {4:8.1f} {5:>5s} {6:>5s} {7:>5s}'.format(i,dfall.loc[i,'year'],\\\n",
    "                                    dfall.loc[i,'senti']*10000, dfall.loc[i,'move'],dfall.loc[i,'Close'], \\\n",
    "                                    true_move[i-1],pred_persi[i-1],pred_senti[i-1])) "
   ]
  },
  {
   "cell_type": "code",
   "execution_count": 165,
   "metadata": {},
   "outputs": [
    {
     "name": "stdout",
     "output_type": "stream",
     "text": [
      "len(true_move) =  20\n",
      "\n",
      "senti : accuracy = 0.85\n",
      "\n",
      "persi : accuracy = 0.80\n"
     ]
    }
   ],
   "source": [
    "from sklearn.metrics import accuracy_score,classification_report,confusion_matrix\n",
    "\n",
    "print('len(true_move) = ',npreds)\n",
    "\n",
    "print('\\nsenti : accuracy = {0:4.2f}'.format(accuracy_score(true_move, pred_senti)))\n",
    "print('\\npersi : accuracy = {0:4.2f}'.format(accuracy_score(true_move, pred_persi)))\n",
    "\n",
    "#print('\\nClassification_report')\n",
    "#print('\\n',classification_report(true_move, pred_senti))"
   ]
  },
  {
   "cell_type": "code",
   "execution_count": 166,
   "metadata": {},
   "outputs": [
    {
     "data": {
      "text/plain": [
       "array([[15,  0],\n",
       "       [ 3,  2]], dtype=int64)"
      ]
     },
     "execution_count": 166,
     "metadata": {},
     "output_type": "execute_result"
    }
   ],
   "source": [
    "confusion_matrix(true_move, pred_senti,labels=['UP','DW'])"
   ]
  },
  {
   "cell_type": "code",
   "execution_count": 167,
   "metadata": {},
   "outputs": [
    {
     "data": {
      "text/plain": [
       "array([[13,  2],\n",
       "       [ 2,  3]], dtype=int64)"
      ]
     },
     "execution_count": 167,
     "metadata": {},
     "output_type": "execute_result"
    }
   ],
   "source": [
    "confusion_matrix(true_move, pred_persi,labels=['UP','DW'])"
   ]
  },
  {
   "cell_type": "markdown",
   "metadata": {},
   "source": [
    "## Set up four more models : perfect model, bad model, always UP prediction model and always DOWN prediction model."
   ]
  },
  {
   "cell_type": "code",
   "execution_count": 168,
   "metadata": {},
   "outputs": [],
   "source": [
    "perfect_move = true_move.copy()   # all predictions correct.\n",
    "\n",
    "bad_move= ['UP' if x=='DW' else 'DW' for x in true_move]  # all predictions wrong.\n",
    "\n",
    "pred_UP = ['UP' for i in np.arange(npreds)]  # all predictions upwards\n",
    "\n",
    "pred_DW = ['DW' for i in np.arange(npreds)]  #all predictions downwards"
   ]
  },
  {
   "cell_type": "code",
   "execution_count": 169,
   "metadata": {},
   "outputs": [
    {
     "name": "stdout",
     "output_type": "stream",
     "text": [
      "\n",
      "len(move_magn) =  20\n",
      "move_magn[0] =  99.89150176190515\n",
      "move_magn[npreds-1] =  167.14219708601922\n",
      "\n",
      "gradient metric : senti =  2187.43\n",
      "gradient metric : persi =  1873.24\n",
      "gradient metric : perfect =  3568.29\n",
      "gradient metric : imperfect = -3568.29\n",
      "gradient metric : UP =  1586.03\n",
      "gradient metric : DOWN = -1586.03\n",
      "\n",
      "sentiment model (MISSES)\n",
      "2001   WRONG  -233.04\n",
      "2002   WRONG  -200.24\n",
      "2008   WRONG  -257.14\n",
      "\n",
      "persistence model (MISSES)\n",
      "2001   WRONG  -233.04\n",
      "2004   WRONG  165.42\n",
      "2008   WRONG  -257.14\n",
      "2010   WRONG  191.92\n"
     ]
    },
    {
     "data": {
      "image/png": "[encoded data removed]",
      "text/plain": [
       "<Figure size 432x288 with 1 Axes>"
      ]
     },
     "metadata": {},
     "output_type": "display_data"
    }
   ],
   "source": [
    "import backtrade\n",
    "import importlib\n",
    "from numpy import ma\n",
    "importlib.reload(backtrade)\n",
    "\n",
    "move_magn = np.asarray(dfall.loc[2:npreds+1,'move'])  #True movements\n",
    "\n",
    "print('\\nlen(move_magn) = ',len(move_magn))\n",
    "print('move_magn[0] = ',move_magn[0])\n",
    "print('move_magn[npreds-1] = ',move_magn[npreds-1])\n",
    "\n",
    "hitmiss_senti,sum_magn = backtrade.magnitude_move(pred_senti,true_move,move_magn)\n",
    "print('\\ngradient metric : senti = {0:8.2f}'.format(sum_magn))    \n",
    "hitmiss_persi,sum_magn = backtrade.magnitude_move(pred_persi,true_move,move_magn)\n",
    "print('gradient metric : persi = {0:8.2f}'.format(sum_magn))\n",
    "hitmiss,sum_magn = backtrade.magnitude_move(perfect_move,true_move,move_magn)\n",
    "print('gradient metric : perfect = {0:8.2f}'.format(sum_magn))    \n",
    "hitmiss,sum_magn = backtrade.magnitude_move(bad_move,true_move,move_magn)\n",
    "print('gradient metric : imperfect = {0:8.2f}'.format(sum_magn))    \n",
    "hitmiss, sum_magn = backtrade.magnitude_move(pred_UP,true_move,move_magn)\n",
    "print('gradient metric : UP = {0:8.2f}'.format(sum_magn))    \n",
    "hitmiss, sum_magn = backtrade.magnitude_move(pred_DW,true_move,move_magn)\n",
    "print('gradient metric : DOWN = {0:8.2f}'.format(sum_magn))   \n",
    "\n",
    "# yrarr = dfall.loc[2:npreds+1,'year'].tolist()\n",
    "print('\\nsentiment model (MISSES)')\n",
    "\n",
    "hd=[]\n",
    "plt.figure(1)\n",
    "plt.plot(np.arange(styr,edyr+1),np.full(edyr-styr+1,0),'k-')\n",
    "h1,=plt.plot(np.arange(styr,edyr+1),dfall['senti']*10000,'g-x'); hd.append(h1) #Scale up for comparison (only sign matters).\n",
    "h1,=plt.plot(np.arange(styr,edyr+1),dfall['move'],'-o',color='mediumvioletred'); hd.append(h1)\n",
    "for i in range(npreds): \n",
    " if hitmiss_senti[i]=='WRONG':\n",
    "  plt.plot(styr+i+2,dfall.loc[i+2,'move'],'kx',markersize=15)\n",
    "  print('{0:6s} {1:6s} {2:<6.2f}'.format(yrarr[i],hitmiss_senti[i],dfall.loc[i+2,'move']))\n",
    "\n",
    "print('\\npersistence model (MISSES)')\n",
    "\n",
    "for i in range(npreds): \n",
    " if hitmiss_persi[i]=='WRONG':\n",
    "  plt.plot(styr+i+2,dfall.loc[i+2,'move'],'o',markersize=12,fillstyle='none',color='b')\n",
    "  print('{0:6s} {1:6s} {2:>6.2f}'.format(yrarr[i],hitmiss_persi[1],dfall.loc[i+2,'move'])    )\n",
    " plt.xticks(np.arange(styr,edyr+1,2),np.arange(styr,edyr+1,2),rotation=45)\n",
    " plt.title('(Blue circles, black cross) = Misses (persistence, Sentiment)')\n",
    " plt.legend(hd,['Sentiment','Price movement'])\n",
    "# plt.savefig('figs/annual_hit_miss.png', bbox_inches = 'tight')\n",
    "\n",
    "plt.show()"
   ]
  },
  {
   "cell_type": "markdown",
   "metadata": {},
   "source": [
    "## Backtrading"
   ]
  },
  {
   "cell_type": "code",
   "execution_count": 170,
   "metadata": {},
   "outputs": [
    {
     "name": "stdout",
     "output_type": "stream",
     "text": [
      "\n",
      "closeprice[0]      =  1327.3295670952382\n",
      "closeprice[npreds] =  2913.3563804087303\n",
      "len(closeprice) =  21\n",
      "\n",
      "persistence model\n",
      "\tCash at end of 21 years = 3293.2 \n",
      "\tNet profit = 1965.9\n",
      "\t%profit =  148.1\n",
      "\n",
      "sentiment model\n",
      "\tCash at end of 21 years = 3860.7 \n",
      "\tNet profit = 2533.4\n",
      "\t%profit =  190.9\n",
      "\n",
      "perfect model\n",
      "\tCash at end of 21 years = 6712.1 \n",
      "\tNet profit = 5384.8\n",
      "\t%profit =  405.7\n",
      "\n",
      "imperfect model\n",
      "\tCash at end of 21 years =  576.1 \n",
      "\tNet profit = -751.2\n",
      "\t%profit =  -56.6\n",
      "\n",
      "Always UP model\n",
      "\tCash at end of 21 years = 2913.4 \n",
      "\tNet profit = 1586.0\n",
      "\t%profit =  119.5\n",
      "\n",
      "Always DW model\n",
      "\tCash at end of 21 years = 1327.3 \n",
      "\tNet profit =    0.0\n",
      "\t%profit =    0.0\n",
      "\n",
      "Cash at end of all years = 2913.4 \n",
      "Net profit/loss =  1586.026813313492\n",
      "% profit/loss =  119.4900537614327\n"
     ]
    }
   ],
   "source": [
    "import backtrade\n",
    "import importlib\n",
    "importlib.reload(backtrade)\n",
    "\n",
    "closeprice = np.asarray(dfall.loc[1:npreds+1,'Close'])\n",
    "\n",
    "print('\\ncloseprice[0]      = ',closeprice[0])\n",
    "print('closeprice[npreds] = ',closeprice[npreds])\n",
    "print('len(closeprice) = ',len(closeprice))\n",
    "\n",
    "print('\\npersistence model')\n",
    "invest,stock,cash = backtrade.trade(pred_persi,closeprice)\n",
    "cash_end = cash[npreds-1]+stock[npreds-1]*closeprice[npreds]\n",
    "print('\\tCash at end of {0:2d} years = {1:6.1f} '.format(npreds+1,cash_end))\n",
    "print('\\tNet profit = {0:6.1f}'.format(cash_end - invest))\n",
    "print('\\t%profit = {0:6.1f}'.format(100.0*(cash_end - invest)/invest))\n",
    "\n",
    "print('\\nsentiment model')\n",
    "invest,stock,cash = backtrade.trade(pred_senti,closeprice)\n",
    "cash_end = cash[npreds-1]+stock[npreds-1]*closeprice[npreds]\n",
    "print('\\tCash at end of {0:2d} years = {1:6.1f} '.format(npreds+1,cash_end))\n",
    "print('\\tNet profit = {0:6.1f}'.format(cash_end - invest))\n",
    "print('\\t%profit = {0:6.1f}'.format(100.0*(cash_end - invest)/invest))\n",
    "\n",
    "print('\\nperfect model')\n",
    "invest,stock,cash = backtrade.trade(perfect_move,closeprice)\n",
    "cash_end = cash[npreds-1]+stock[npreds-1]*closeprice[npreds]\n",
    "print('\\tCash at end of {0:2d} years = {1:6.1f} '.format(npreds+1,cash_end))\n",
    "print('\\tNet profit = {0:6.1f}'.format(cash_end - invest))\n",
    "print('\\t%profit = {0:6.1f}'.format(100.0*(cash_end - invest)/invest))\n",
    "\n",
    "print('\\nimperfect model')\n",
    "invest,stock,cash = backtrade.trade(bad_move,closeprice)\n",
    "cash_end = cash[npreds-1]+stock[npreds-1]*closeprice[npreds]\n",
    "print('\\tCash at end of {0:2d} years = {1:6.1f} '.format(npreds+1,cash_end))\n",
    "print('\\tNet profit = {0:6.1f}'.format(cash_end - invest))\n",
    "print('\\t%profit = {0:6.1f}'.format(100.0*(cash_end - invest)/invest))\n",
    "\n",
    "print('\\nAlways UP model')\n",
    "invest,stock,cash = backtrade.trade(pred_UP,closeprice)\n",
    "cash_end = cash[npreds-1]+stock[npreds-1]*closeprice[npreds]\n",
    "print('\\tCash at end of {0:2d} years = {1:6.1f} '.format(npreds+1,cash_end))\n",
    "print('\\tNet profit = {0:6.1f}'.format(cash_end - invest))\n",
    "print('\\t%profit = {0:6.1f}'.format(100.0*(cash_end - invest)/invest))\n",
    "\n",
    "print('\\nAlways DW model')\n",
    "invest,stock,cash = backtrade.trade(pred_DW,closeprice)\n",
    "cash_end = cash[npreds-1]+stock[npreds-1]*closeprice[npreds]\n",
    "print('\\tCash at end of {0:2d} years = {1:6.1f} '.format(npreds+1,cash_end))\n",
    "print('\\tNet profit = {0:6.1f}'.format(cash_end - invest))\n",
    "print('\\t%profit = {0:6.1f}'.format(100.0*(cash_end - invest)/invest))\n",
    "\n",
    "\n",
    "#BUY and HOLD model\n",
    "cash_end_hold = closeprice[npreds]\n",
    "\n",
    "print('\\nCash at end of all years = {0:6.1f} '.format(cash_end_hold))\n",
    "print('Net profit/loss = ',cash_end_hold - invest)\n",
    "print('% profit/loss = ',100.0*(cash_end_hold - invest)/invest)\n"
   ]
  }
 ],
 "metadata": {
  "kernelspec": {
   "display_name": "Python 3",
   "language": "python",
   "name": "python3"
  },
  "language_info": {
   "codemirror_mode": {
    "name": "ipython",
    "version": 3
   },
   "file_extension": ".py",
   "mimetype": "text/x-python",
   "name": "python",
   "nbconvert_exporter": "python",
   "pygments_lexer": "ipython3",
   "version": "3.7.6"
  }
 },
 "nbformat": 4,
 "nbformat_minor": 4
}
